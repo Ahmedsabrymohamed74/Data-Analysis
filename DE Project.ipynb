{
 "cells": [
  {
   "cell_type": "markdown",
   "metadata": {},
   "source": [
    "# DE PROJECT NETW908\n",
    "## Name - \n",
    "## ID - \n",
    "## Major - IET Networks"
   ]
  },
  {
   "cell_type": "markdown",
   "metadata": {},
   "source": [
    "## Data extraction"
   ]
  },
  {
   "cell_type": "code",
   "execution_count": 4,
   "metadata": {},
   "outputs": [],
   "source": [
    "import pandas as pd\n",
    "import numpy as np\n",
    "import matplotlib.pyplot as plt\n",
    "import requests\n",
    "import datetime as dt\n",
    "from datetime import timedelta as td\n",
    "from IPython.display import display\n",
    "import seaborn as sns\n",
    "from sklearn.preprocessing import MaxAbsScaler, StandardScaler, RobustScaler, Normalizer"
   ]
  },
  {
   "cell_type": "code",
   "execution_count": 2,
   "metadata": {},
   "outputs": [],
   "source": [
    "# Q2 2020: April 1st – June 30th\n",
    "# MMM,AXP,AIG,ADB,ACN,CHRW,CSCO,DVN,XOM,GM\n",
    "# symbol,open,close,high,low,volume,change percent,date,company name and sector\n",
    "\n",
    "api_key = 'pk_886b24432ed044abb0bf23fcd5e2b313'\n",
    "\n",
    "stocks = ['MMM','AXP','AIG','ADB','ACN','CHRW','CSCO','DVN','XOM','GM']\n",
    "url_batch = f'https://cloud.iexapis.com/stable/stock/market/batch?symbols={stocks}&types=chart&range=Q22020&token={api_key}'"
   ]
  },
  {
   "cell_type": "code",
   "execution_count": 3,
   "metadata": {},
   "outputs": [],
   "source": [
    "batch = requests.get(url_batch).json()"
   ]
  },
  {
   "cell_type": "code",
   "execution_count": 4,
   "metadata": {},
   "outputs": [],
   "source": [
    "#batch"
   ]
  },
  {
   "cell_type": "code",
   "execution_count": 5,
   "metadata": {},
   "outputs": [],
   "source": [
    "dict_df = {'symbol':[],'close':[],'open':[],'high':[], 'low':[], 'volume':[], 'changePercent':[], 'date':[]} \n",
    "for symbol in batch.keys():\n",
    "    for row in batch[symbol]['chart']:\n",
    "        dict_df['symbol'].append(row['symbol'])\n",
    "        dict_df['close'].append(row['close'])\n",
    "        dict_df['open'].append(row['open'])\n",
    "        dict_df['high'].append(row['high'])\n",
    "        dict_df['low'].append(row['low'])\n",
    "        dict_df['volume'].append(row['volume'])\n",
    "        dict_df['changePercent'].append(row['changePercent'])\n",
    "        dict_df['date'].append(row['date'])"
   ]
  },
  {
   "cell_type": "code",
   "execution_count": 6,
   "metadata": {},
   "outputs": [],
   "source": [
    "df_batch = pd.DataFrame(dict_df)"
   ]
  },
  {
   "cell_type": "code",
   "execution_count": 7,
   "metadata": {},
   "outputs": [
    {
     "data": {
      "text/plain": [
       "array(['MMM', 'AXP', 'AIG', 'ACN', 'CHRW', 'CSCO', 'DVN', 'XOM', 'GM'],\n",
       "      dtype=object)"
      ]
     },
     "execution_count": 7,
     "metadata": {},
     "output_type": "execute_result"
    }
   ],
   "source": [
    "df_batch.symbol.unique()"
   ]
  },
  {
   "cell_type": "code",
   "execution_count": 8,
   "metadata": {},
   "outputs": [],
   "source": [
    "url_company = f'https://cloud.iexapis.com/stable/stock/market/batch?symbols={stocks}&types=company&token={api_key}'\n",
    "company_info = requests.get(url_company).json()"
   ]
  },
  {
   "cell_type": "code",
   "execution_count": 9,
   "metadata": {},
   "outputs": [],
   "source": [
    "info = {'symbol':[], 'companyName':[],'sector':[]}\n",
    "for symbol in company_info.keys():\n",
    "    info['symbol'].append(company_info[symbol]['company']['symbol'])\n",
    "    info['companyName'].append(company_info[symbol]['company']['companyName'])\n",
    "    info['sector'].append(company_info[symbol]['company']['sector'])"
   ]
  },
  {
   "cell_type": "code",
   "execution_count": 10,
   "metadata": {},
   "outputs": [
    {
     "data": {
      "text/plain": [
       "array(['3M Co.', 'American Express Co.',\n",
       "       'American International Group Inc', 'Accenture plc',\n",
       "       'C.H. Robinson Worldwide, Inc.', 'Cisco Systems, Inc.',\n",
       "       'Devon Energy Corp.', 'Exxon Mobil Corp.',\n",
       "       'General Motors Company'], dtype=object)"
      ]
     },
     "execution_count": 10,
     "metadata": {},
     "output_type": "execute_result"
    }
   ],
   "source": [
    "comps = pd.DataFrame(info)\n",
    "df = pd.merge(df_batch,comps,on='symbol')\n",
    "df.companyName.unique()"
   ]
  },
  {
   "cell_type": "markdown",
   "metadata": {},
   "source": [
    "### First and last 5 rows and general info about the dataframe"
   ]
  },
  {
   "cell_type": "code",
   "execution_count": 9,
   "metadata": {},
   "outputs": [
    {
     "data": {
      "text/html": [
       "<div>\n",
       "<style scoped>\n",
       "    .dataframe tbody tr th:only-of-type {\n",
       "        vertical-align: middle;\n",
       "    }\n",
       "\n",
       "    .dataframe tbody tr th {\n",
       "        vertical-align: top;\n",
       "    }\n",
       "\n",
       "    .dataframe thead th {\n",
       "        text-align: right;\n",
       "    }\n",
       "</style>\n",
       "<table border=\"1\" class=\"dataframe\">\n",
       "  <thead>\n",
       "    <tr style=\"text-align: right;\">\n",
       "      <th></th>\n",
       "      <th>symbol</th>\n",
       "      <th>close</th>\n",
       "      <th>open</th>\n",
       "      <th>high</th>\n",
       "      <th>low</th>\n",
       "      <th>volume</th>\n",
       "      <th>changePercent</th>\n",
       "      <th>date</th>\n",
       "      <th>companyName</th>\n",
       "      <th>sector</th>\n",
       "    </tr>\n",
       "  </thead>\n",
       "  <tbody>\n",
       "    <tr>\n",
       "      <th>0</th>\n",
       "      <td>MMM</td>\n",
       "      <td>133.14</td>\n",
       "      <td>132.00</td>\n",
       "      <td>135.84</td>\n",
       "      <td>131.01</td>\n",
       "      <td>3777954</td>\n",
       "      <td>0.00</td>\n",
       "      <td>2020-04-01</td>\n",
       "      <td>3M Co.</td>\n",
       "      <td>Management of Companies and Enterprises</td>\n",
       "    </tr>\n",
       "    <tr>\n",
       "      <th>1</th>\n",
       "      <td>MMM</td>\n",
       "      <td>137.91</td>\n",
       "      <td>132.36</td>\n",
       "      <td>138.21</td>\n",
       "      <td>132.10</td>\n",
       "      <td>3990340</td>\n",
       "      <td>3.58</td>\n",
       "      <td>2020-04-02</td>\n",
       "      <td>3M Co.</td>\n",
       "      <td>Management of Companies and Enterprises</td>\n",
       "    </tr>\n",
       "    <tr>\n",
       "      <th>2</th>\n",
       "      <td>MMM</td>\n",
       "      <td>133.79</td>\n",
       "      <td>136.01</td>\n",
       "      <td>137.44</td>\n",
       "      <td>132.90</td>\n",
       "      <td>3588252</td>\n",
       "      <td>-2.99</td>\n",
       "      <td>2020-04-03</td>\n",
       "      <td>3M Co.</td>\n",
       "      <td>Management of Companies and Enterprises</td>\n",
       "    </tr>\n",
       "    <tr>\n",
       "      <th>3</th>\n",
       "      <td>MMM</td>\n",
       "      <td>140.70</td>\n",
       "      <td>137.86</td>\n",
       "      <td>141.25</td>\n",
       "      <td>136.90</td>\n",
       "      <td>5639666</td>\n",
       "      <td>5.16</td>\n",
       "      <td>2020-04-06</td>\n",
       "      <td>3M Co.</td>\n",
       "      <td>Management of Companies and Enterprises</td>\n",
       "    </tr>\n",
       "    <tr>\n",
       "      <th>4</th>\n",
       "      <td>MMM</td>\n",
       "      <td>144.60</td>\n",
       "      <td>147.50</td>\n",
       "      <td>150.64</td>\n",
       "      <td>144.40</td>\n",
       "      <td>5496738</td>\n",
       "      <td>2.77</td>\n",
       "      <td>2020-04-07</td>\n",
       "      <td>3M Co.</td>\n",
       "      <td>Management of Companies and Enterprises</td>\n",
       "    </tr>\n",
       "  </tbody>\n",
       "</table>\n",
       "</div>"
      ],
      "text/plain": [
       "  symbol   close    open    high     low   volume  changePercent        date  \\\n",
       "0    MMM  133.14  132.00  135.84  131.01  3777954           0.00  2020-04-01   \n",
       "1    MMM  137.91  132.36  138.21  132.10  3990340           3.58  2020-04-02   \n",
       "2    MMM  133.79  136.01  137.44  132.90  3588252          -2.99  2020-04-03   \n",
       "3    MMM  140.70  137.86  141.25  136.90  5639666           5.16  2020-04-06   \n",
       "4    MMM  144.60  147.50  150.64  144.40  5496738           2.77  2020-04-07   \n",
       "\n",
       "  companyName                                   sector  \n",
       "0      3M Co.  Management of Companies and Enterprises  \n",
       "1      3M Co.  Management of Companies and Enterprises  \n",
       "2      3M Co.  Management of Companies and Enterprises  \n",
       "3      3M Co.  Management of Companies and Enterprises  \n",
       "4      3M Co.  Management of Companies and Enterprises  "
      ]
     },
     "execution_count": 9,
     "metadata": {},
     "output_type": "execute_result"
    }
   ],
   "source": [
    "df.head()"
   ]
  },
  {
   "cell_type": "markdown",
   "metadata": {},
   "source": []
  },
  {
   "cell_type": "code",
   "execution_count": 10,
   "metadata": {},
   "outputs": [
    {
     "data": {
      "text/html": [
       "<div>\n",
       "<style scoped>\n",
       "    .dataframe tbody tr th:only-of-type {\n",
       "        vertical-align: middle;\n",
       "    }\n",
       "\n",
       "    .dataframe tbody tr th {\n",
       "        vertical-align: top;\n",
       "    }\n",
       "\n",
       "    .dataframe thead th {\n",
       "        text-align: right;\n",
       "    }\n",
       "</style>\n",
       "<table border=\"1\" class=\"dataframe\">\n",
       "  <thead>\n",
       "    <tr style=\"text-align: right;\">\n",
       "      <th></th>\n",
       "      <th>symbol</th>\n",
       "      <th>close</th>\n",
       "      <th>open</th>\n",
       "      <th>high</th>\n",
       "      <th>low</th>\n",
       "      <th>volume</th>\n",
       "      <th>changePercent</th>\n",
       "      <th>date</th>\n",
       "      <th>companyName</th>\n",
       "      <th>sector</th>\n",
       "    </tr>\n",
       "  </thead>\n",
       "  <tbody>\n",
       "    <tr>\n",
       "      <th>562</th>\n",
       "      <td>GM</td>\n",
       "      <td>25.28</td>\n",
       "      <td>25.85</td>\n",
       "      <td>25.98</td>\n",
       "      <td>25.01</td>\n",
       "      <td>14887786</td>\n",
       "      <td>-3.70</td>\n",
       "      <td>2020-06-24</td>\n",
       "      <td>General Motors Company</td>\n",
       "      <td>Manufacturing</td>\n",
       "    </tr>\n",
       "    <tr>\n",
       "      <th>563</th>\n",
       "      <td>GM</td>\n",
       "      <td>25.23</td>\n",
       "      <td>25.00</td>\n",
       "      <td>25.29</td>\n",
       "      <td>24.54</td>\n",
       "      <td>14328321</td>\n",
       "      <td>-0.20</td>\n",
       "      <td>2020-06-25</td>\n",
       "      <td>General Motors Company</td>\n",
       "      <td>Manufacturing</td>\n",
       "    </tr>\n",
       "    <tr>\n",
       "      <th>564</th>\n",
       "      <td>GM</td>\n",
       "      <td>24.46</td>\n",
       "      <td>25.00</td>\n",
       "      <td>25.11</td>\n",
       "      <td>24.25</td>\n",
       "      <td>16476831</td>\n",
       "      <td>-3.05</td>\n",
       "      <td>2020-06-26</td>\n",
       "      <td>General Motors Company</td>\n",
       "      <td>Manufacturing</td>\n",
       "    </tr>\n",
       "    <tr>\n",
       "      <th>565</th>\n",
       "      <td>GM</td>\n",
       "      <td>25.30</td>\n",
       "      <td>24.71</td>\n",
       "      <td>25.35</td>\n",
       "      <td>24.48</td>\n",
       "      <td>10011694</td>\n",
       "      <td>3.43</td>\n",
       "      <td>2020-06-29</td>\n",
       "      <td>General Motors Company</td>\n",
       "      <td>Manufacturing</td>\n",
       "    </tr>\n",
       "    <tr>\n",
       "      <th>566</th>\n",
       "      <td>GM</td>\n",
       "      <td>25.30</td>\n",
       "      <td>25.09</td>\n",
       "      <td>25.60</td>\n",
       "      <td>24.74</td>\n",
       "      <td>14321970</td>\n",
       "      <td>0.00</td>\n",
       "      <td>2020-06-30</td>\n",
       "      <td>General Motors Company</td>\n",
       "      <td>Manufacturing</td>\n",
       "    </tr>\n",
       "  </tbody>\n",
       "</table>\n",
       "</div>"
      ],
      "text/plain": [
       "    symbol  close   open   high    low    volume  changePercent        date  \\\n",
       "562     GM  25.28  25.85  25.98  25.01  14887786          -3.70  2020-06-24   \n",
       "563     GM  25.23  25.00  25.29  24.54  14328321          -0.20  2020-06-25   \n",
       "564     GM  24.46  25.00  25.11  24.25  16476831          -3.05  2020-06-26   \n",
       "565     GM  25.30  24.71  25.35  24.48  10011694           3.43  2020-06-29   \n",
       "566     GM  25.30  25.09  25.60  24.74  14321970           0.00  2020-06-30   \n",
       "\n",
       "                companyName         sector  \n",
       "562  General Motors Company  Manufacturing  \n",
       "563  General Motors Company  Manufacturing  \n",
       "564  General Motors Company  Manufacturing  \n",
       "565  General Motors Company  Manufacturing  \n",
       "566  General Motors Company  Manufacturing  "
      ]
     },
     "execution_count": 10,
     "metadata": {},
     "output_type": "execute_result"
    }
   ],
   "source": [
    "df.tail()"
   ]
  },
  {
   "cell_type": "code",
   "execution_count": 11,
   "metadata": {},
   "outputs": [
    {
     "data": {
      "text/plain": [
       "array(['MMM', 'AXP', 'AIG', 'ACN', 'CHRW', 'CSCO', 'DVN', 'XOM', 'GM'],\n",
       "      dtype=object)"
      ]
     },
     "execution_count": 11,
     "metadata": {},
     "output_type": "execute_result"
    }
   ],
   "source": [
    "df.symbol.unique()"
   ]
  },
  {
   "cell_type": "code",
   "execution_count": 12,
   "metadata": {},
   "outputs": [
    {
     "data": {
      "text/html": [
       "<div>\n",
       "<style scoped>\n",
       "    .dataframe tbody tr th:only-of-type {\n",
       "        vertical-align: middle;\n",
       "    }\n",
       "\n",
       "    .dataframe tbody tr th {\n",
       "        vertical-align: top;\n",
       "    }\n",
       "\n",
       "    .dataframe thead th {\n",
       "        text-align: right;\n",
       "    }\n",
       "</style>\n",
       "<table border=\"1\" class=\"dataframe\">\n",
       "  <thead>\n",
       "    <tr style=\"text-align: right;\">\n",
       "      <th></th>\n",
       "      <th>close</th>\n",
       "      <th>open</th>\n",
       "      <th>high</th>\n",
       "      <th>low</th>\n",
       "      <th>volume</th>\n",
       "      <th>changePercent</th>\n",
       "    </tr>\n",
       "  </thead>\n",
       "  <tbody>\n",
       "    <tr>\n",
       "      <th>count</th>\n",
       "      <td>567.000000</td>\n",
       "      <td>567.000000</td>\n",
       "      <td>567.000000</td>\n",
       "      <td>567.000000</td>\n",
       "      <td>5.670000e+02</td>\n",
       "      <td>567.000000</td>\n",
       "    </tr>\n",
       "    <tr>\n",
       "      <th>mean</th>\n",
       "      <td>73.321922</td>\n",
       "      <td>73.388113</td>\n",
       "      <td>74.534162</td>\n",
       "      <td>72.114568</td>\n",
       "      <td>1.165130e+07</td>\n",
       "      <td>0.492240</td>\n",
       "    </tr>\n",
       "    <tr>\n",
       "      <th>std</th>\n",
       "      <td>57.969807</td>\n",
       "      <td>57.931714</td>\n",
       "      <td>58.580480</td>\n",
       "      <td>57.259314</td>\n",
       "      <td>1.114840e+07</td>\n",
       "      <td>3.803875</td>\n",
       "    </tr>\n",
       "    <tr>\n",
       "      <th>min</th>\n",
       "      <td>6.790000</td>\n",
       "      <td>6.570000</td>\n",
       "      <td>6.940000</td>\n",
       "      <td>6.220000</td>\n",
       "      <td>1.098327e+06</td>\n",
       "      <td>-10.750000</td>\n",
       "    </tr>\n",
       "    <tr>\n",
       "      <th>25%</th>\n",
       "      <td>27.125000</td>\n",
       "      <td>27.105000</td>\n",
       "      <td>27.815000</td>\n",
       "      <td>26.560000</td>\n",
       "      <td>3.080514e+06</td>\n",
       "      <td>-1.610000</td>\n",
       "    </tr>\n",
       "    <tr>\n",
       "      <th>50%</th>\n",
       "      <td>46.180000</td>\n",
       "      <td>46.140000</td>\n",
       "      <td>46.820000</td>\n",
       "      <td>45.400000</td>\n",
       "      <td>8.232266e+06</td>\n",
       "      <td>0.300000</td>\n",
       "    </tr>\n",
       "    <tr>\n",
       "      <th>75%</th>\n",
       "      <td>98.835000</td>\n",
       "      <td>99.300000</td>\n",
       "      <td>101.075000</td>\n",
       "      <td>97.785000</td>\n",
       "      <td>1.710921e+07</td>\n",
       "      <td>2.460000</td>\n",
       "    </tr>\n",
       "    <tr>\n",
       "      <th>max</th>\n",
       "      <td>217.320000</td>\n",
       "      <td>216.780000</td>\n",
       "      <td>217.890000</td>\n",
       "      <td>212.130000</td>\n",
       "      <td>1.069283e+08</td>\n",
       "      <td>15.130000</td>\n",
       "    </tr>\n",
       "  </tbody>\n",
       "</table>\n",
       "</div>"
      ],
      "text/plain": [
       "            close        open        high         low        volume  \\\n",
       "count  567.000000  567.000000  567.000000  567.000000  5.670000e+02   \n",
       "mean    73.321922   73.388113   74.534162   72.114568  1.165130e+07   \n",
       "std     57.969807   57.931714   58.580480   57.259314  1.114840e+07   \n",
       "min      6.790000    6.570000    6.940000    6.220000  1.098327e+06   \n",
       "25%     27.125000   27.105000   27.815000   26.560000  3.080514e+06   \n",
       "50%     46.180000   46.140000   46.820000   45.400000  8.232266e+06   \n",
       "75%     98.835000   99.300000  101.075000   97.785000  1.710921e+07   \n",
       "max    217.320000  216.780000  217.890000  212.130000  1.069283e+08   \n",
       "\n",
       "       changePercent  \n",
       "count     567.000000  \n",
       "mean        0.492240  \n",
       "std         3.803875  \n",
       "min       -10.750000  \n",
       "25%        -1.610000  \n",
       "50%         0.300000  \n",
       "75%         2.460000  \n",
       "max        15.130000  "
      ]
     },
     "execution_count": 12,
     "metadata": {},
     "output_type": "execute_result"
    }
   ],
   "source": [
    "df.describe()"
   ]
  },
  {
   "cell_type": "markdown",
   "metadata": {},
   "source": [
    "## Data cleaning"
   ]
  },
  {
   "cell_type": "code",
   "execution_count": null,
   "metadata": {},
   "outputs": [],
   "source": [
    "def change_percentage():\n",
    "    for p in range(len(df['changePercent'])):\n",
    "        df['changePercent'][p] = df['changePercent'][p] * 100\n"
   ]
  },
  {
   "cell_type": "code",
   "execution_count": null,
   "metadata": {},
   "outputs": [],
   "source": [
    "\n",
    "def round_down_2_decimal(): \n",
    "    for cols in df.columns: \n",
    "        for i in range(len(df)):\n",
    "            if isinstance(df[cols][i], np.floating):\n",
    "                df[cols][i]= np.round(df[cols][i], 2) \n",
    "    "
   ]
  },
  {
   "cell_type": "code",
   "execution_count": null,
   "metadata": {},
   "outputs": [],
   "source": [
    "# run only once\n",
    "change_percentage()\n",
    "round_down_2_decimal()"
   ]
  },
  {
   "cell_type": "code",
   "execution_count": 45,
   "metadata": {},
   "outputs": [
    {
     "data": {
      "text/plain": [
       "0      0.00\n",
       "1      3.58\n",
       "2     -2.99\n",
       "3      5.16\n",
       "4      2.77\n",
       "       ... \n",
       "562   -3.70\n",
       "563   -0.20\n",
       "564   -3.05\n",
       "565    3.43\n",
       "566    0.00\n",
       "Name: changePercent, Length: 567, dtype: float64"
      ]
     },
     "execution_count": 45,
     "metadata": {},
     "output_type": "execute_result"
    }
   ],
   "source": [
    "df['changePercent']"
   ]
  },
  {
   "cell_type": "code",
   "execution_count": null,
   "metadata": {},
   "outputs": [],
   "source": [
    "df.head()"
   ]
  },
  {
   "cell_type": "code",
   "execution_count": 21,
   "metadata": {},
   "outputs": [
    {
     "data": {
      "text/plain": [
       "float"
      ]
     },
     "execution_count": 21,
     "metadata": {},
     "output_type": "execute_result"
    }
   ],
   "source": [
    "type(df['changePercent'][6])"
   ]
  },
  {
   "cell_type": "markdown",
   "metadata": {},
   "source": [
    "## Correlation co-efficent"
   ]
  },
  {
   "cell_type": "code",
   "execution_count": 13,
   "metadata": {},
   "outputs": [
    {
     "data": {
      "text/html": [
       "<div>\n",
       "<style scoped>\n",
       "    .dataframe tbody tr th:only-of-type {\n",
       "        vertical-align: middle;\n",
       "    }\n",
       "\n",
       "    .dataframe tbody tr th {\n",
       "        vertical-align: top;\n",
       "    }\n",
       "\n",
       "    .dataframe thead th {\n",
       "        text-align: right;\n",
       "    }\n",
       "</style>\n",
       "<table border=\"1\" class=\"dataframe\">\n",
       "  <thead>\n",
       "    <tr style=\"text-align: right;\">\n",
       "      <th></th>\n",
       "      <th>symbol</th>\n",
       "      <th>close</th>\n",
       "      <th>open</th>\n",
       "      <th>high</th>\n",
       "      <th>low</th>\n",
       "      <th>volume</th>\n",
       "      <th>changePercent</th>\n",
       "      <th>date</th>\n",
       "      <th>companyName</th>\n",
       "      <th>sector</th>\n",
       "    </tr>\n",
       "  </thead>\n",
       "  <tbody>\n",
       "    <tr>\n",
       "      <th>0</th>\n",
       "      <td>NaN</td>\n",
       "      <td>133.14</td>\n",
       "      <td>132.00</td>\n",
       "      <td>135.84</td>\n",
       "      <td>131.01</td>\n",
       "      <td>3777954.0</td>\n",
       "      <td>0.00</td>\n",
       "      <td>NaN</td>\n",
       "      <td>NaN</td>\n",
       "      <td>NaN</td>\n",
       "    </tr>\n",
       "    <tr>\n",
       "      <th>1</th>\n",
       "      <td>NaN</td>\n",
       "      <td>137.91</td>\n",
       "      <td>132.36</td>\n",
       "      <td>138.21</td>\n",
       "      <td>132.10</td>\n",
       "      <td>3990340.0</td>\n",
       "      <td>3.58</td>\n",
       "      <td>NaN</td>\n",
       "      <td>NaN</td>\n",
       "      <td>NaN</td>\n",
       "    </tr>\n",
       "    <tr>\n",
       "      <th>2</th>\n",
       "      <td>NaN</td>\n",
       "      <td>133.79</td>\n",
       "      <td>136.01</td>\n",
       "      <td>137.44</td>\n",
       "      <td>132.90</td>\n",
       "      <td>3588252.0</td>\n",
       "      <td>-2.99</td>\n",
       "      <td>NaN</td>\n",
       "      <td>NaN</td>\n",
       "      <td>NaN</td>\n",
       "    </tr>\n",
       "    <tr>\n",
       "      <th>3</th>\n",
       "      <td>NaN</td>\n",
       "      <td>140.70</td>\n",
       "      <td>137.86</td>\n",
       "      <td>141.25</td>\n",
       "      <td>136.90</td>\n",
       "      <td>5639666.0</td>\n",
       "      <td>5.16</td>\n",
       "      <td>NaN</td>\n",
       "      <td>NaN</td>\n",
       "      <td>NaN</td>\n",
       "    </tr>\n",
       "    <tr>\n",
       "      <th>4</th>\n",
       "      <td>NaN</td>\n",
       "      <td>144.60</td>\n",
       "      <td>147.50</td>\n",
       "      <td>150.64</td>\n",
       "      <td>144.40</td>\n",
       "      <td>5496738.0</td>\n",
       "      <td>2.77</td>\n",
       "      <td>NaN</td>\n",
       "      <td>NaN</td>\n",
       "      <td>NaN</td>\n",
       "    </tr>\n",
       "    <tr>\n",
       "      <th>...</th>\n",
       "      <td>...</td>\n",
       "      <td>...</td>\n",
       "      <td>...</td>\n",
       "      <td>...</td>\n",
       "      <td>...</td>\n",
       "      <td>...</td>\n",
       "      <td>...</td>\n",
       "      <td>...</td>\n",
       "      <td>...</td>\n",
       "      <td>...</td>\n",
       "    </tr>\n",
       "    <tr>\n",
       "      <th>562</th>\n",
       "      <td>NaN</td>\n",
       "      <td>NaN</td>\n",
       "      <td>NaN</td>\n",
       "      <td>NaN</td>\n",
       "      <td>NaN</td>\n",
       "      <td>NaN</td>\n",
       "      <td>NaN</td>\n",
       "      <td>NaN</td>\n",
       "      <td>NaN</td>\n",
       "      <td>NaN</td>\n",
       "    </tr>\n",
       "    <tr>\n",
       "      <th>563</th>\n",
       "      <td>NaN</td>\n",
       "      <td>NaN</td>\n",
       "      <td>NaN</td>\n",
       "      <td>NaN</td>\n",
       "      <td>NaN</td>\n",
       "      <td>NaN</td>\n",
       "      <td>NaN</td>\n",
       "      <td>NaN</td>\n",
       "      <td>NaN</td>\n",
       "      <td>NaN</td>\n",
       "    </tr>\n",
       "    <tr>\n",
       "      <th>564</th>\n",
       "      <td>NaN</td>\n",
       "      <td>NaN</td>\n",
       "      <td>NaN</td>\n",
       "      <td>NaN</td>\n",
       "      <td>NaN</td>\n",
       "      <td>NaN</td>\n",
       "      <td>NaN</td>\n",
       "      <td>NaN</td>\n",
       "      <td>NaN</td>\n",
       "      <td>NaN</td>\n",
       "    </tr>\n",
       "    <tr>\n",
       "      <th>565</th>\n",
       "      <td>NaN</td>\n",
       "      <td>NaN</td>\n",
       "      <td>NaN</td>\n",
       "      <td>NaN</td>\n",
       "      <td>NaN</td>\n",
       "      <td>NaN</td>\n",
       "      <td>NaN</td>\n",
       "      <td>NaN</td>\n",
       "      <td>NaN</td>\n",
       "      <td>NaN</td>\n",
       "    </tr>\n",
       "    <tr>\n",
       "      <th>566</th>\n",
       "      <td>NaN</td>\n",
       "      <td>NaN</td>\n",
       "      <td>NaN</td>\n",
       "      <td>NaN</td>\n",
       "      <td>NaN</td>\n",
       "      <td>NaN</td>\n",
       "      <td>NaN</td>\n",
       "      <td>NaN</td>\n",
       "      <td>NaN</td>\n",
       "      <td>NaN</td>\n",
       "    </tr>\n",
       "  </tbody>\n",
       "</table>\n",
       "<p>567 rows × 10 columns</p>\n",
       "</div>"
      ],
      "text/plain": [
       "     symbol   close    open    high     low     volume  changePercent  date  \\\n",
       "0       NaN  133.14  132.00  135.84  131.01  3777954.0           0.00   NaN   \n",
       "1       NaN  137.91  132.36  138.21  132.10  3990340.0           3.58   NaN   \n",
       "2       NaN  133.79  136.01  137.44  132.90  3588252.0          -2.99   NaN   \n",
       "3       NaN  140.70  137.86  141.25  136.90  5639666.0           5.16   NaN   \n",
       "4       NaN  144.60  147.50  150.64  144.40  5496738.0           2.77   NaN   \n",
       "..      ...     ...     ...     ...     ...        ...            ...   ...   \n",
       "562     NaN     NaN     NaN     NaN     NaN        NaN            NaN   NaN   \n",
       "563     NaN     NaN     NaN     NaN     NaN        NaN            NaN   NaN   \n",
       "564     NaN     NaN     NaN     NaN     NaN        NaN            NaN   NaN   \n",
       "565     NaN     NaN     NaN     NaN     NaN        NaN            NaN   NaN   \n",
       "566     NaN     NaN     NaN     NaN     NaN        NaN            NaN   NaN   \n",
       "\n",
       "     companyName  sector  \n",
       "0            NaN     NaN  \n",
       "1            NaN     NaN  \n",
       "2            NaN     NaN  \n",
       "3            NaN     NaN  \n",
       "4            NaN     NaN  \n",
       "..           ...     ...  \n",
       "562          NaN     NaN  \n",
       "563          NaN     NaN  \n",
       "564          NaN     NaN  \n",
       "565          NaN     NaN  \n",
       "566          NaN     NaN  \n",
       "\n",
       "[567 rows x 10 columns]"
      ]
     },
     "execution_count": 13,
     "metadata": {},
     "output_type": "execute_result"
    }
   ],
   "source": [
    "\n",
    "dMMM = pd.DataFrame().reindex_like(df)\n",
    "dAXP = pd.DataFrame().reindex_like(df)\n",
    "dAIG = pd.DataFrame().reindex_like(df)\n",
    "dACN = pd.DataFrame().reindex_like(df)\n",
    "dCHRW = pd.DataFrame().reindex_like(df)\n",
    "dCSCO = pd.DataFrame().reindex_like(df)\n",
    "dDVN = pd.DataFrame().reindex_like(df)\n",
    "dXOM = pd.DataFrame().reindex_like(df)\n",
    "dGM = pd.DataFrame().reindex_like(df)\n",
    "\n",
    "\n",
    "for di in range(len(df)):  \n",
    "    if df['symbol'].isin(['MMM'])[di]:\n",
    "        dMMM['close'][di] = df['close'][di]\n",
    "        dMMM['open'][di] = df['open'][di]\n",
    "        dMMM['high'][di] = df['high'][di]\n",
    "        dMMM['low'][di] = df['low'][di]\n",
    "        dMMM['volume'][di] = df['volume'][di]\n",
    "        dMMM['changePercent'][di] = df['changePercent'][di]\n",
    "    elif df['symbol'].isin(['AXP'])[di]:\n",
    "        dAXP['close'][di] = df['close'][di]\n",
    "        dAXP['open'][di] = df['open'][di]\n",
    "        dAXP['high'][di] = df['high'][di]\n",
    "        dAXP['low'][di] = df['low'][di]\n",
    "        dAXP['volume'][di] = df['volume'][di]\n",
    "        dAXP['changePercent'][di] = df['changePercent'][di]\n",
    "    elif df['symbol'].isin(['AIG'])[di]:\n",
    "        dAIG['close'][di] = df['close'][di]\n",
    "        dAIG['open'][di] = df['open'][di]\n",
    "        dAIG['high'][di] = df['high'][di]\n",
    "        dAIG['low'][di] = df['low'][di]\n",
    "        dAIG['volume'][di] = df['volume'][di]\n",
    "        dAIG['changePercent'][di] = df['changePercent'][di]\n",
    "    elif df['symbol'].isin(['ACN'])[di]:\n",
    "        dACN['close'][di] = df['close'][di]\n",
    "        dACN['open'][di] = df['open'][di]\n",
    "        dACN['high'][di] = df['high'][di]\n",
    "        dACN['low'][di] = df['low'][di]\n",
    "        dACN['volume'][di] = df['volume'][di]\n",
    "        dACN['changePercent'][di] = df['changePercent'][di]\n",
    "    elif df['symbol'].isin(['CHRW'])[di]:\n",
    "        dCHRW['close'][di] = df['close'][di]\n",
    "        dCHRW['open'][di] = df['open'][di]\n",
    "        dCHRW['high'][di] = df['high'][di]\n",
    "        dCHRW['low'][di] = df['low'][di]\n",
    "        dCHRW['volume'][di] = df['volume'][di]\n",
    "        dCHRW['changePercent'][di] = df['changePercent'][di]\n",
    "    elif df['symbol'].isin(['CSCO'])[di]:\n",
    "        dCSCO['close'][di] = df['close'][di]\n",
    "        dCSCO['open'][di] = df['open'][di]\n",
    "        dCSCO['high'][di] = df['high'][di]\n",
    "        dCSCO['low'][di] = df['low'][di]\n",
    "        dCSCO['volume'][di] = df['volume'][di]\n",
    "        dCSCO['changePercent'][di] = df['changePercent'][di]\n",
    "    elif df['symbol'].isin(['DVN'])[di]:\n",
    "        dDVN['close'][di] = df['close'][di]\n",
    "        dDVN['open'][di] = df['open'][di]\n",
    "        dDVN['high'][di] = df['high'][di]\n",
    "        dDVN['low'][di] = df['low'][di]\n",
    "        dDVN['volume'][di] = df['volume'][di]\n",
    "        dDVN['changePercent'][di] = df['changePercent'][di]\n",
    "    elif df['symbol'].isin(['XOM'])[di]:\n",
    "        dXOM['close'][di] = df['close'][di]\n",
    "        dXOM['open'][di] = df['open'][di]\n",
    "        dXOM['high'][di] = df['high'][di]\n",
    "        dXOM['low'][di] = df['low'][di]\n",
    "        dXOM['volume'][di] = df['volume'][di]\n",
    "        dXOM['changePercent'][di] = df['changePercent'][di]\n",
    "    elif df['symbol'].isin(['GM'])[di]:\n",
    "        dGM['close'][di] = df['close'][di]\n",
    "        dGM['open'][di] = df['open'][di]\n",
    "        dGM['high'][di] = df['high'][di]\n",
    "        dGM['low'][di] = df['low'][di]\n",
    "        dGM['volume'][di] = df['volume'][di]\n",
    "        dGM['changePercent'][di] = df['changePercent'][di]\n",
    "\n",
    "\n",
    "dMMM"
   ]
  },
  {
   "cell_type": "code",
   "execution_count": 15,
   "metadata": {},
   "outputs": [],
   "source": [
    "my_stocks = [dMMM, dAXP, dAIG, dACN, dCHRW, dCSCO, dDVN, dXOM, dGM]\n",
    "\n",
    "for indo in my_stocks:\n",
    "    indo.dropna(inplace = True, how = 'all')\n",
    "    indo.dropna(inplace = True, how = 'all', axis = 1)"
   ]
  },
  {
   "cell_type": "code",
   "execution_count": 16,
   "metadata": {},
   "outputs": [
    {
     "data": {
      "text/html": [
       "<div>\n",
       "<style scoped>\n",
       "    .dataframe tbody tr th:only-of-type {\n",
       "        vertical-align: middle;\n",
       "    }\n",
       "\n",
       "    .dataframe tbody tr th {\n",
       "        vertical-align: top;\n",
       "    }\n",
       "\n",
       "    .dataframe thead th {\n",
       "        text-align: right;\n",
       "    }\n",
       "</style>\n",
       "<table border=\"1\" class=\"dataframe\">\n",
       "  <thead>\n",
       "    <tr style=\"text-align: right;\">\n",
       "      <th></th>\n",
       "      <th>close</th>\n",
       "      <th>open</th>\n",
       "      <th>high</th>\n",
       "      <th>low</th>\n",
       "      <th>volume</th>\n",
       "      <th>changePercent</th>\n",
       "    </tr>\n",
       "  </thead>\n",
       "  <tbody>\n",
       "    <tr>\n",
       "      <th>0</th>\n",
       "      <td>133.14</td>\n",
       "      <td>132.00</td>\n",
       "      <td>135.84</td>\n",
       "      <td>131.01</td>\n",
       "      <td>3777954.0</td>\n",
       "      <td>0.00</td>\n",
       "    </tr>\n",
       "    <tr>\n",
       "      <th>1</th>\n",
       "      <td>137.91</td>\n",
       "      <td>132.36</td>\n",
       "      <td>138.21</td>\n",
       "      <td>132.10</td>\n",
       "      <td>3990340.0</td>\n",
       "      <td>3.58</td>\n",
       "    </tr>\n",
       "    <tr>\n",
       "      <th>2</th>\n",
       "      <td>133.79</td>\n",
       "      <td>136.01</td>\n",
       "      <td>137.44</td>\n",
       "      <td>132.90</td>\n",
       "      <td>3588252.0</td>\n",
       "      <td>-2.99</td>\n",
       "    </tr>\n",
       "    <tr>\n",
       "      <th>3</th>\n",
       "      <td>140.70</td>\n",
       "      <td>137.86</td>\n",
       "      <td>141.25</td>\n",
       "      <td>136.90</td>\n",
       "      <td>5639666.0</td>\n",
       "      <td>5.16</td>\n",
       "    </tr>\n",
       "    <tr>\n",
       "      <th>4</th>\n",
       "      <td>144.60</td>\n",
       "      <td>147.50</td>\n",
       "      <td>150.64</td>\n",
       "      <td>144.40</td>\n",
       "      <td>5496738.0</td>\n",
       "      <td>2.77</td>\n",
       "    </tr>\n",
       "    <tr>\n",
       "      <th>...</th>\n",
       "      <td>...</td>\n",
       "      <td>...</td>\n",
       "      <td>...</td>\n",
       "      <td>...</td>\n",
       "      <td>...</td>\n",
       "      <td>...</td>\n",
       "    </tr>\n",
       "    <tr>\n",
       "      <th>58</th>\n",
       "      <td>152.22</td>\n",
       "      <td>156.29</td>\n",
       "      <td>156.73</td>\n",
       "      <td>151.71</td>\n",
       "      <td>3042844.0</td>\n",
       "      <td>-3.56</td>\n",
       "    </tr>\n",
       "    <tr>\n",
       "      <th>59</th>\n",
       "      <td>154.67</td>\n",
       "      <td>152.05</td>\n",
       "      <td>155.05</td>\n",
       "      <td>150.10</td>\n",
       "      <td>2060691.0</td>\n",
       "      <td>1.61</td>\n",
       "    </tr>\n",
       "    <tr>\n",
       "      <th>60</th>\n",
       "      <td>152.52</td>\n",
       "      <td>154.60</td>\n",
       "      <td>154.78</td>\n",
       "      <td>151.53</td>\n",
       "      <td>2826495.0</td>\n",
       "      <td>-1.39</td>\n",
       "    </tr>\n",
       "    <tr>\n",
       "      <th>61</th>\n",
       "      <td>155.57</td>\n",
       "      <td>153.90</td>\n",
       "      <td>156.51</td>\n",
       "      <td>153.48</td>\n",
       "      <td>2145146.0</td>\n",
       "      <td>2.00</td>\n",
       "    </tr>\n",
       "    <tr>\n",
       "      <th>62</th>\n",
       "      <td>155.99</td>\n",
       "      <td>154.91</td>\n",
       "      <td>156.71</td>\n",
       "      <td>154.05</td>\n",
       "      <td>2941732.0</td>\n",
       "      <td>0.27</td>\n",
       "    </tr>\n",
       "  </tbody>\n",
       "</table>\n",
       "<p>63 rows × 6 columns</p>\n",
       "</div>"
      ],
      "text/plain": [
       "     close    open    high     low     volume  changePercent\n",
       "0   133.14  132.00  135.84  131.01  3777954.0           0.00\n",
       "1   137.91  132.36  138.21  132.10  3990340.0           3.58\n",
       "2   133.79  136.01  137.44  132.90  3588252.0          -2.99\n",
       "3   140.70  137.86  141.25  136.90  5639666.0           5.16\n",
       "4   144.60  147.50  150.64  144.40  5496738.0           2.77\n",
       "..     ...     ...     ...     ...        ...            ...\n",
       "58  152.22  156.29  156.73  151.71  3042844.0          -3.56\n",
       "59  154.67  152.05  155.05  150.10  2060691.0           1.61\n",
       "60  152.52  154.60  154.78  151.53  2826495.0          -1.39\n",
       "61  155.57  153.90  156.51  153.48  2145146.0           2.00\n",
       "62  155.99  154.91  156.71  154.05  2941732.0           0.27\n",
       "\n",
       "[63 rows x 6 columns]"
      ]
     },
     "execution_count": 16,
     "metadata": {},
     "output_type": "execute_result"
    }
   ],
   "source": [
    "dMMM"
   ]
  },
  {
   "cell_type": "code",
   "execution_count": 17,
   "metadata": {},
   "outputs": [
    {
     "name": "stdout",
     "output_type": "stream",
     "text": [
      "Correlatiom Coefficient of close price with close is \n",
      ":[[1. 1.]\n",
      " [1. 1.]]\n",
      "Correlatiom Coefficient of close price with open is \n",
      ":[[1.         0.94409273]\n",
      " [0.94409273 1.        ]]\n",
      "Correlatiom Coefficient of close price with high is \n",
      ":[[1.         0.97845907]\n",
      " [0.97845907 1.        ]]\n",
      "Correlatiom Coefficient of close price with low is \n",
      ":[[1.         0.97709331]\n",
      " [0.97709331 1.        ]]\n",
      "Correlatiom Coefficient of close price with volume is \n",
      ":[[ 1.         -0.10133805]\n",
      " [-0.10133805  1.        ]]\n",
      "Correlatiom Coefficient of close price with changePercent is \n",
      ":[[1.         0.13804185]\n",
      " [0.13804185 1.        ]]\n"
     ]
    }
   ],
   "source": [
    "# this method is implemented to run a specific stock(specific data frame) and get the \n",
    "#correlation between the close price and the column enered by the user\n",
    "def correlation(data_frame,value_2): \n",
    "    print(\"Correlatiom Coefficient of close price with {} is \\n:{}\".format(value_2,\n",
    "                                                                           np.corrcoef(data_frame['close'], \n",
    "                                                                                       data_frame[value_2])))\n",
    "    \n",
    "# change the DMMM in the for loop in order to see the results for another stock\n",
    "for colss in dMMM.columns:\n",
    "    correlation(dMMM, colss)\n"
   ]
  },
  {
   "cell_type": "code",
   "execution_count": 20,
   "metadata": {},
   "outputs": [],
   "source": [
    "#a function to get correlation of all stocks\n",
    "my_stocks = [dMMM, dAXP, dAIG, dACN, dCHRW, dCSCO, dDVN, dXOM, dGM]\n",
    "def corr_2():\n",
    "    for indox in range(len(df)):\n",
    "        for i in range(len(my_stocks)):\n",
    "            for j in my_stocks[i].columns:\n",
    "                if type(df[j])== float and j!= 'close':\n",
    "                    np.corrcoef(i['close'], i[j])\n",
    "            "
   ]
  },
  {
   "cell_type": "code",
   "execution_count": 21,
   "metadata": {},
   "outputs": [],
   "source": [
    "corr_2()"
   ]
  },
  {
   "cell_type": "markdown",
   "metadata": {},
   "source": [
    "### Findings and conclusions - \n"
   ]
  },
  {
   "cell_type": "markdown",
   "metadata": {},
   "source": [
    "## Variable transformation"
   ]
  },
  {
   "cell_type": "code",
   "execution_count": 22,
   "metadata": {},
   "outputs": [
    {
     "name": "stderr",
     "output_type": "stream",
     "text": [
      "<ipython-input-22-60a2f849694c>:4: SettingWithCopyWarning: \n",
      "A value is trying to be set on a copy of a slice from a DataFrame\n",
      "\n",
      "See the caveats in the documentation: https://pandas.pydata.org/pandas-docs/stable/user_guide/indexing.html#returning-a-view-versus-a-copy\n",
      "  df['date'][dates] = pd.to_datetime(df['date'][dates])\n"
     ]
    }
   ],
   "source": [
    "# Converting dates to datetime.datetime format\n",
    "\n",
    "for dates in range(len(df)):\n",
    "    df['date'][dates] = pd.to_datetime(df['date'][dates])"
   ]
  },
  {
   "cell_type": "code",
   "execution_count": 23,
   "metadata": {},
   "outputs": [
    {
     "name": "stderr",
     "output_type": "stream",
     "text": [
      "<ipython-input-23-585c238db97a>:8: SettingWithCopyWarning: \n",
      "A value is trying to be set on a copy of a slice from a DataFrame\n",
      "\n",
      "See the caveats in the documentation: https://pandas.pydata.org/pandas-docs/stable/user_guide/indexing.html#returning-a-view-versus-a-copy\n",
      "  df['MMM'][j] = 1\n",
      "<ipython-input-23-585c238db97a>:10: SettingWithCopyWarning: \n",
      "A value is trying to be set on a copy of a slice from a DataFrame\n",
      "\n",
      "See the caveats in the documentation: https://pandas.pydata.org/pandas-docs/stable/user_guide/indexing.html#returning-a-view-versus-a-copy\n",
      "  df['AXP'][j] = 1\n",
      "<ipython-input-23-585c238db97a>:12: SettingWithCopyWarning: \n",
      "A value is trying to be set on a copy of a slice from a DataFrame\n",
      "\n",
      "See the caveats in the documentation: https://pandas.pydata.org/pandas-docs/stable/user_guide/indexing.html#returning-a-view-versus-a-copy\n",
      "  df['AIG'][j] = 1\n",
      "<ipython-input-23-585c238db97a>:14: SettingWithCopyWarning: \n",
      "A value is trying to be set on a copy of a slice from a DataFrame\n",
      "\n",
      "See the caveats in the documentation: https://pandas.pydata.org/pandas-docs/stable/user_guide/indexing.html#returning-a-view-versus-a-copy\n",
      "  df['ACN'][j] = 1\n",
      "<ipython-input-23-585c238db97a>:16: SettingWithCopyWarning: \n",
      "A value is trying to be set on a copy of a slice from a DataFrame\n",
      "\n",
      "See the caveats in the documentation: https://pandas.pydata.org/pandas-docs/stable/user_guide/indexing.html#returning-a-view-versus-a-copy\n",
      "  df['CHRW'][j] = 1\n",
      "<ipython-input-23-585c238db97a>:18: SettingWithCopyWarning: \n",
      "A value is trying to be set on a copy of a slice from a DataFrame\n",
      "\n",
      "See the caveats in the documentation: https://pandas.pydata.org/pandas-docs/stable/user_guide/indexing.html#returning-a-view-versus-a-copy\n",
      "  df['CSCO'][j] = 1\n",
      "<ipython-input-23-585c238db97a>:20: SettingWithCopyWarning: \n",
      "A value is trying to be set on a copy of a slice from a DataFrame\n",
      "\n",
      "See the caveats in the documentation: https://pandas.pydata.org/pandas-docs/stable/user_guide/indexing.html#returning-a-view-versus-a-copy\n",
      "  df['DVN'][j] = 1\n",
      "<ipython-input-23-585c238db97a>:22: SettingWithCopyWarning: \n",
      "A value is trying to be set on a copy of a slice from a DataFrame\n",
      "\n",
      "See the caveats in the documentation: https://pandas.pydata.org/pandas-docs/stable/user_guide/indexing.html#returning-a-view-versus-a-copy\n",
      "  df['XOM'][j] = 1\n"
     ]
    },
    {
     "data": {
      "text/html": [
       "<div>\n",
       "<style scoped>\n",
       "    .dataframe tbody tr th:only-of-type {\n",
       "        vertical-align: middle;\n",
       "    }\n",
       "\n",
       "    .dataframe tbody tr th {\n",
       "        vertical-align: top;\n",
       "    }\n",
       "\n",
       "    .dataframe thead th {\n",
       "        text-align: right;\n",
       "    }\n",
       "</style>\n",
       "<table border=\"1\" class=\"dataframe\">\n",
       "  <thead>\n",
       "    <tr style=\"text-align: right;\">\n",
       "      <th></th>\n",
       "      <th>symbol</th>\n",
       "      <th>close</th>\n",
       "      <th>open</th>\n",
       "      <th>high</th>\n",
       "      <th>low</th>\n",
       "      <th>volume</th>\n",
       "      <th>changePercent</th>\n",
       "      <th>date</th>\n",
       "      <th>companyName</th>\n",
       "      <th>sector</th>\n",
       "      <th>MMM</th>\n",
       "      <th>AXP</th>\n",
       "      <th>AIG</th>\n",
       "      <th>ACN</th>\n",
       "      <th>CHRW</th>\n",
       "      <th>CSCO</th>\n",
       "      <th>DVN</th>\n",
       "      <th>XOM</th>\n",
       "    </tr>\n",
       "  </thead>\n",
       "  <tbody>\n",
       "    <tr>\n",
       "      <th>0</th>\n",
       "      <td>MMM</td>\n",
       "      <td>133.14</td>\n",
       "      <td>132.00</td>\n",
       "      <td>135.84</td>\n",
       "      <td>131.01</td>\n",
       "      <td>3777954</td>\n",
       "      <td>0.00</td>\n",
       "      <td>2020-04-01 00:00:00</td>\n",
       "      <td>3M Co.</td>\n",
       "      <td>Management of Companies and Enterprises</td>\n",
       "      <td>1</td>\n",
       "      <td>0</td>\n",
       "      <td>0</td>\n",
       "      <td>0</td>\n",
       "      <td>0</td>\n",
       "      <td>0</td>\n",
       "      <td>0</td>\n",
       "      <td>0</td>\n",
       "    </tr>\n",
       "    <tr>\n",
       "      <th>1</th>\n",
       "      <td>MMM</td>\n",
       "      <td>137.91</td>\n",
       "      <td>132.36</td>\n",
       "      <td>138.21</td>\n",
       "      <td>132.10</td>\n",
       "      <td>3990340</td>\n",
       "      <td>3.58</td>\n",
       "      <td>2020-04-02 00:00:00</td>\n",
       "      <td>3M Co.</td>\n",
       "      <td>Management of Companies and Enterprises</td>\n",
       "      <td>1</td>\n",
       "      <td>0</td>\n",
       "      <td>0</td>\n",
       "      <td>0</td>\n",
       "      <td>0</td>\n",
       "      <td>0</td>\n",
       "      <td>0</td>\n",
       "      <td>0</td>\n",
       "    </tr>\n",
       "    <tr>\n",
       "      <th>2</th>\n",
       "      <td>MMM</td>\n",
       "      <td>133.79</td>\n",
       "      <td>136.01</td>\n",
       "      <td>137.44</td>\n",
       "      <td>132.90</td>\n",
       "      <td>3588252</td>\n",
       "      <td>-2.99</td>\n",
       "      <td>2020-04-03 00:00:00</td>\n",
       "      <td>3M Co.</td>\n",
       "      <td>Management of Companies and Enterprises</td>\n",
       "      <td>1</td>\n",
       "      <td>0</td>\n",
       "      <td>0</td>\n",
       "      <td>0</td>\n",
       "      <td>0</td>\n",
       "      <td>0</td>\n",
       "      <td>0</td>\n",
       "      <td>0</td>\n",
       "    </tr>\n",
       "    <tr>\n",
       "      <th>3</th>\n",
       "      <td>MMM</td>\n",
       "      <td>140.70</td>\n",
       "      <td>137.86</td>\n",
       "      <td>141.25</td>\n",
       "      <td>136.90</td>\n",
       "      <td>5639666</td>\n",
       "      <td>5.16</td>\n",
       "      <td>2020-04-06 00:00:00</td>\n",
       "      <td>3M Co.</td>\n",
       "      <td>Management of Companies and Enterprises</td>\n",
       "      <td>1</td>\n",
       "      <td>0</td>\n",
       "      <td>0</td>\n",
       "      <td>0</td>\n",
       "      <td>0</td>\n",
       "      <td>0</td>\n",
       "      <td>0</td>\n",
       "      <td>0</td>\n",
       "    </tr>\n",
       "    <tr>\n",
       "      <th>4</th>\n",
       "      <td>MMM</td>\n",
       "      <td>144.60</td>\n",
       "      <td>147.50</td>\n",
       "      <td>150.64</td>\n",
       "      <td>144.40</td>\n",
       "      <td>5496738</td>\n",
       "      <td>2.77</td>\n",
       "      <td>2020-04-07 00:00:00</td>\n",
       "      <td>3M Co.</td>\n",
       "      <td>Management of Companies and Enterprises</td>\n",
       "      <td>1</td>\n",
       "      <td>0</td>\n",
       "      <td>0</td>\n",
       "      <td>0</td>\n",
       "      <td>0</td>\n",
       "      <td>0</td>\n",
       "      <td>0</td>\n",
       "      <td>0</td>\n",
       "    </tr>\n",
       "  </tbody>\n",
       "</table>\n",
       "</div>"
      ],
      "text/plain": [
       "  symbol   close    open    high     low   volume  changePercent  \\\n",
       "0    MMM  133.14  132.00  135.84  131.01  3777954           0.00   \n",
       "1    MMM  137.91  132.36  138.21  132.10  3990340           3.58   \n",
       "2    MMM  133.79  136.01  137.44  132.90  3588252          -2.99   \n",
       "3    MMM  140.70  137.86  141.25  136.90  5639666           5.16   \n",
       "4    MMM  144.60  147.50  150.64  144.40  5496738           2.77   \n",
       "\n",
       "                  date companyName                                   sector  \\\n",
       "0  2020-04-01 00:00:00      3M Co.  Management of Companies and Enterprises   \n",
       "1  2020-04-02 00:00:00      3M Co.  Management of Companies and Enterprises   \n",
       "2  2020-04-03 00:00:00      3M Co.  Management of Companies and Enterprises   \n",
       "3  2020-04-06 00:00:00      3M Co.  Management of Companies and Enterprises   \n",
       "4  2020-04-07 00:00:00      3M Co.  Management of Companies and Enterprises   \n",
       "\n",
       "   MMM  AXP  AIG  ACN  CHRW  CSCO  DVN  XOM  \n",
       "0    1    0    0    0     0     0    0    0  \n",
       "1    1    0    0    0     0     0    0    0  \n",
       "2    1    0    0    0     0     0    0    0  \n",
       "3    1    0    0    0     0     0    0    0  \n",
       "4    1    0    0    0     0     0    0    0  "
      ]
     },
     "execution_count": 23,
     "metadata": {},
     "output_type": "execute_result"
    }
   ],
   "source": [
    "# Categorical encoding on symbols\n",
    "\n",
    "for symbols in df.symbol.unique():\n",
    "    df[symbols] = 0\n",
    "\n",
    "for j in range(len(df)):\n",
    "    if df.symbol[j] == \"MMM\":\n",
    "        df['MMM'][j] = 1\n",
    "    elif df.symbol[j] == \"AXP\":\n",
    "        df['AXP'][j] = 1\n",
    "    elif df.symbol[j] == \"AIG\":\n",
    "        df['AIG'][j] = 1\n",
    "    elif df.symbol[j] == \"ACN\":\n",
    "        df['ACN'][j] = 1\n",
    "    elif df.symbol[j] == \"CHRW\":\n",
    "        df['CHRW'][j] = 1\n",
    "    elif df.symbol[j] == \"CSCO\":\n",
    "        df['CSCO'][j] = 1\n",
    "    elif df.symbol[j] == \"DVN\":\n",
    "        df['DVN'][j] = 1\n",
    "    elif df.symbol[j] == \"XOM\":\n",
    "        df['XOM'][j] = 1\n",
    "    \n",
    "df = df.drop(\"GM\",1)\n",
    "df.loc[df['symbol'] == 'MMM'].head()"
   ]
  },
  {
   "cell_type": "markdown",
   "metadata": {},
   "source": [
    "### Findings and conclusions - \n"
   ]
  },
  {
   "cell_type": "markdown",
   "metadata": {},
   "source": [
    "## Date Discretization"
   ]
  },
  {
   "cell_type": "code",
   "execution_count": 25,
   "metadata": {},
   "outputs": [
    {
     "name": "stderr",
     "output_type": "stream",
     "text": [
      "<ipython-input-25-92bcba46362a>:5: SettingWithCopyWarning: \n",
      "A value is trying to be set on a copy of a slice from a DataFrame\n",
      "\n",
      "See the caveats in the documentation: https://pandas.pydata.org/pandas-docs/stable/user_guide/indexing.html#returning-a-view-versus-a-copy\n",
      "  df['date'][date_time] = df['date'][date_time].date()\n"
     ]
    }
   ],
   "source": [
    "# getting date \n",
    "\n",
    "for date_time in range(len(df)):\n",
    "    if type(df['date'][date_time]) != dt.date:\n",
    "        df['date'][date_time] = df['date'][date_time].date()"
   ]
  },
  {
   "cell_type": "code",
   "execution_count": 26,
   "metadata": {},
   "outputs": [
    {
     "data": {
      "text/plain": [
       "datetime.timedelta(days=7)"
      ]
     },
     "execution_count": 26,
     "metadata": {},
     "output_type": "execute_result"
    }
   ],
   "source": [
    "# calculate bins\n",
    "date_range = df['date'].max() - df['date'].min()\n",
    "date_range = (date_range + dt.timedelta(days=1))/13\n",
    "date_range"
   ]
  },
  {
   "cell_type": "code",
   "execution_count": 27,
   "metadata": {},
   "outputs": [
    {
     "data": {
      "text/plain": [
       "(datetime.timedelta(days=7),\n",
       " datetime.date(2020, 4, 1),\n",
       " datetime.date(2020, 6, 30))"
      ]
     },
     "execution_count": 27,
     "metadata": {},
     "output_type": "execute_result"
    }
   ],
   "source": [
    "min_value = (df['date'].min())\n",
    "max_value = (df['date'].max())\n",
    "\n",
    "# Round the bin width\n",
    "\n",
    "inter_value = date_range\n",
    "\n",
    "inter_value, min_value, max_value\n"
   ]
  },
  {
   "cell_type": "code",
   "execution_count": 28,
   "metadata": {},
   "outputs": [],
   "source": [
    "# Create a list which holds the intervals ranging from the minimum values to the max value + interval \n",
    "# Having your inter_value as an interval\n",
    "\n",
    "intervals = [i for i in range(0, ((max_value - min_value) + inter_value).days, inter_value.days)]\n",
    "intervals = list(range(0, ((max_value - min_value) + inter_value).days, inter_value.days))"
   ]
  },
  {
   "cell_type": "code",
   "execution_count": 29,
   "metadata": {},
   "outputs": [
    {
     "name": "stderr",
     "output_type": "stream",
     "text": [
      "<ipython-input-29-9bae8356e1e9>:10: SettingWithCopyWarning: \n",
      "A value is trying to be set on a copy of a slice from a DataFrame\n",
      "\n",
      "See the caveats in the documentation: https://pandas.pydata.org/pandas-docs/stable/user_guide/indexing.html#returning-a-view-versus-a-copy\n",
      "  df['date_int'][toint] = (df['date'][toint] - min_value).days\n"
     ]
    }
   ],
   "source": [
    "# Creating columns date_int and week_ranges:\n",
    "# Date_int to perceive days as int format instead of datetime\n",
    "# No need to account for months since date delta is always seven days and week numbers are consecutive\n",
    "# Week_ranges to later fill with the ranges\n",
    "\n",
    "df['date_int'] = 0\n",
    "df['week_ranges'] = 0\n",
    "\n",
    "for toint in range(len(df)):\n",
    "    df['date_int'][toint] = (df['date'][toint] - min_value).days"
   ]
  },
  {
   "cell_type": "code",
   "execution_count": 30,
   "metadata": {},
   "outputs": [
    {
     "data": {
      "text/plain": [
       "[0, 7, 14, 21, 28, 35, 42, 49, 56, 63, 70, 77, 84, 91]"
      ]
     },
     "execution_count": 30,
     "metadata": {},
     "output_type": "execute_result"
    }
   ],
   "source": [
    "labels = [i for i in range(1, len(intervals))]\n",
    "intervals"
   ]
  },
  {
   "cell_type": "code",
   "execution_count": 31,
   "metadata": {},
   "outputs": [],
   "source": [
    "# Filling week_num using pd.cut col with the week numbers we calc above \n",
    "\n",
    "df['week_num'] = pd.cut(x = df['date_int'],\n",
    "                                    bins = intervals,\n",
    "                                    labels = labels,\n",
    "                                    include_lowest=True,\n",
    "                                    right = False)"
   ]
  },
  {
   "cell_type": "code",
   "execution_count": 32,
   "metadata": {},
   "outputs": [
    {
     "name": "stderr",
     "output_type": "stream",
     "text": [
      "<ipython-input-32-b95d9d0d24f1>:20: SettingWithCopyWarning: \n",
      "A value is trying to be set on a copy of a slice from a DataFrame\n",
      "\n",
      "See the caveats in the documentation: https://pandas.pydata.org/pandas-docs/stable/user_guide/indexing.html#returning-a-view-versus-a-copy\n",
      "  df['week_ranges'][ints] = f'{min_value + dt.timedelta(days=left)} - {min_value + dt.timedelta(days=right)}'\n",
      "C:\\Users\\gamze\\anaconda3\\lib\\site-packages\\pandas\\core\\indexing.py:1637: SettingWithCopyWarning: \n",
      "A value is trying to be set on a copy of a slice from a DataFrame\n",
      "\n",
      "See the caveats in the documentation: https://pandas.pydata.org/pandas-docs/stable/user_guide/indexing.html#returning-a-view-versus-a-copy\n",
      "  self._setitem_single_block(indexer, value, name)\n"
     ]
    }
   ],
   "source": [
    "# Using date_disc just to set intervals to use later\n",
    "\n",
    "df['date_disc'] = pd.cut(x = df['date_int'],\n",
    "                             bins=intervals,\n",
    "                             include_lowest=True,\n",
    "                             right = False)\n",
    "\n",
    "# There was TypeError when checking if the dates are in the ranges\n",
    "try:\n",
    "    for ints in range(len(df)):\n",
    "        \n",
    "        # Checking if dates are inside a week range (date_disc) (using \"in\" to check in an interval)\n",
    "        if df['date_int'][ints] in df['date_disc'][ints]:\n",
    "            \n",
    "            # Getting the right and left ranges to insert in the range\n",
    "            right = df['date_disc'][ints].right.item() - 1\n",
    "            left = df['date_disc'][ints].left.item()\n",
    "            \n",
    "            # Creating the range by adding the minimum value to the leftmost and the rightmost intervals\n",
    "            df['week_ranges'][ints] = f'{min_value + dt.timedelta(days=left)} - {min_value + dt.timedelta(days=right)}'\n",
    "        else:\n",
    "            print('This week is not in the corresponding range')\n",
    "except TypeError:\n",
    "    pass"
   ]
  },
  {
   "cell_type": "code",
   "execution_count": 33,
   "metadata": {},
   "outputs": [],
   "source": [
    "# Dropping date_disc and date_int because we do not need them anymore\n",
    "if 'date_int' in df and 'date_disc' in df :\n",
    "    df = df.drop(\"date_int\",1)\n",
    "    df = df.drop(\"date_disc\",1)"
   ]
  },
  {
   "cell_type": "markdown",
   "metadata": {},
   "source": [
    "### Findings and conclusions- what is the cardinality of weeks(how many weeks is there)"
   ]
  },
  {
   "cell_type": "code",
   "execution_count": 36,
   "metadata": {},
   "outputs": [
    {
     "name": "stdout",
     "output_type": "stream",
     "text": [
      "[1, 2, 3, 4, 5, ..., 9, 10, 11, 12, 13]\n",
      "Length: 13\n",
      "Categories (13, int64): [1 < 2 < 3 < 4 ... 10 < 11 < 12 < 13]\n"
     ]
    }
   ],
   "source": [
    "print(df['week_num'].unique())"
   ]
  },
  {
   "cell_type": "markdown",
   "metadata": {},
   "source": [
    "# Detecting outliers"
   ]
  },
  {
   "cell_type": "code",
   "execution_count": 46,
   "metadata": {},
   "outputs": [],
   "source": [
    "# Using Matplotlib\n",
    "\n",
    "def get_outliers_prcs(stock):\n",
    "    \n",
    "    # For prices\n",
    "    prices = [stock['close'], stock['open'], stock['low'], stock['high']]\n",
    "\n",
    "    # Labels\n",
    "    df_st_str = ['close', 'open', 'low', 'high']\n",
    "\n",
    "    fig_p = plt.figure(figsize =(10, 7))\n",
    "    ax1 = fig_p.add_axes([0, 0, 1, 1])\n",
    "\n",
    "    # Outlier Styling\n",
    "    \n",
    "    ax1.boxplot(prices)\n",
    "    ax1.set_xticklabels(df_st_str)\n",
    "\n",
    "    plt.title('Prices Box Plot')\n",
    "    plt.show()\n",
    "\n",
    "# For volume and changePercent\n",
    "def get_outliers_rest(stock):\n",
    "    fig, (ax2,ax3) = plt.subplots(ncols=2, figsize = (14, 4))    \n",
    "    \n",
    "    #Volume\n",
    "    ax2.set_title('Volume Boxplot')\n",
    "    ax2.boxplot(stock['volume'])\n",
    "    \n",
    "    # Percent Change\n",
    "    ax3.set_title('Boxplot for Percent Change')\n",
    "    ax3.boxplot(stock['changePercent'])\n",
    "    \n",
    "    plt.show()\n",
    "\n",
    "# Call Once\n",
    "def get_outliers(stock):\n",
    "    get_outliers_rest(stock)\n",
    "    get_outliers_prcs(stock)"
   ]
  },
  {
   "cell_type": "code",
   "execution_count": 47,
   "metadata": {},
   "outputs": [
    {
     "data": {
      "image/png": "[encoded data removed]",
      "text/plain": [
       "<Figure size 1008x288 with 2 Axes>"
      ]
     },
     "metadata": {
      "needs_background": "light"
     },
     "output_type": "display_data"
    },
    {
     "data": {
      "image/png": "[encoded data removed]",
      "text/plain": [
       "<Figure size 720x504 with 1 Axes>"
      ]
     },
     "metadata": {
      "needs_background": "light"
     },
     "output_type": "display_data"
    }
   ],
   "source": [
    "get_outliers(dGM)"
   ]
  },
  {
   "cell_type": "markdown",
   "metadata": {},
   "source": [
    "### Findings and conclusions - \n"
   ]
  },
  {
   "cell_type": "markdown",
   "metadata": {},
   "source": [
    "## Variable normalization"
   ]
  },
  {
   "cell_type": "code",
   "execution_count": 42,
   "metadata": {},
   "outputs": [],
   "source": [
    "# Robust Scaler\n",
    "\n",
    "dcop = df[['close','open','low','high','changePercent','volume']].copy()\n",
    "\n",
    "# Set up the scaler\n",
    "scaler = RobustScaler()\n",
    "scaler.fit(dcop)\n",
    "\n",
    "# Transform copied df\n",
    "dcop_scaled = scaler.transform(dcop)\n",
    "dcop_scaled = pd.DataFrame(dcop_scaled, columns = dcop.columns)"
   ]
  },
  {
   "cell_type": "code",
   "execution_count": 44,
   "metadata": {},
   "outputs": [
    {
     "data": {
      "image/png": "[encoded data removed]",
      "text/plain": [
       "<Figure size 864x360 with 2 Axes>"
      ]
     },
     "metadata": {
      "needs_background": "light"
     },
     "output_type": "display_data"
    }
   ],
   "source": [
    "fig_r, (ax1r, ax2r) = plt.subplots(ncols=2, figsize=(12, 5))\n",
    "\n",
    "# Before scaling\n",
    "ax1r.set_title('Before Scaling')\n",
    "sns.kdeplot(dcop['volume'], ax=ax1r)\n",
    "\n",
    "# After scaling \n",
    "ax2r.set_title('After Robust Scaling')\n",
    "sns.kdeplot(dcop_scaled['volume'], ax=ax2r)\n",
    "plt.show()"
   ]
  },
  {
   "cell_type": "markdown",
   "metadata": {},
   "source": [
    "### Findings and conclusions - Which feature was normalised and why? Which technique was used and why?\n"
   ]
  },
  {
   "cell_type": "markdown",
   "metadata": {},
   "source": [
    "Volume \n",
    "Robust Scaling"
   ]
  },
  {
   "cell_type": "markdown",
   "metadata": {},
   "source": [
    "## Bonus - Dashboard"
   ]
  },
  {
   "cell_type": "markdown",
   "metadata": {},
   "source": [
    "### Average closing price per week"
   ]
  },
  {
   "cell_type": "code",
   "execution_count": null,
   "metadata": {},
   "outputs": [],
   "source": []
  },
  {
   "cell_type": "markdown",
   "metadata": {},
   "source": [
    "### Average change per week"
   ]
  },
  {
   "cell_type": "code",
   "execution_count": null,
   "metadata": {},
   "outputs": [],
   "source": []
  },
  {
   "cell_type": "code",
   "execution_count": null,
   "metadata": {},
   "outputs": [],
   "source": []
  },
  {
   "cell_type": "code",
   "execution_count": null,
   "metadata": {},
   "outputs": [],
   "source": []
  },
  {
   "cell_type": "markdown",
   "metadata": {},
   "source": [
    "### Average volume per week"
   ]
  },
  {
   "cell_type": "code",
   "execution_count": null,
   "metadata": {},
   "outputs": [],
   "source": []
  },
  {
   "cell_type": "code",
   "execution_count": null,
   "metadata": {},
   "outputs": [],
   "source": []
  },
  {
   "cell_type": "code",
   "execution_count": null,
   "metadata": {},
   "outputs": [],
   "source": []
  },
  {
   "cell_type": "markdown",
   "metadata": {},
   "source": [
    "### Average closing price per week of each stock"
   ]
  },
  {
   "cell_type": "code",
   "execution_count": null,
   "metadata": {},
   "outputs": [],
   "source": []
  },
  {
   "cell_type": "code",
   "execution_count": null,
   "metadata": {},
   "outputs": [],
   "source": []
  },
  {
   "cell_type": "code",
   "execution_count": null,
   "metadata": {},
   "outputs": [],
   "source": []
  },
  {
   "cell_type": "markdown",
   "metadata": {},
   "source": [
    "### Average closing price of each sector"
   ]
  },
  {
   "cell_type": "code",
   "execution_count": null,
   "metadata": {},
   "outputs": [],
   "source": []
  },
  {
   "cell_type": "code",
   "execution_count": null,
   "metadata": {},
   "outputs": [],
   "source": []
  },
  {
   "cell_type": "code",
   "execution_count": null,
   "metadata": {},
   "outputs": [],
   "source": []
  }
 ],
 "metadata": {
  "kernelspec": {
   "display_name": "Python 3",
   "language": "python",
   "name": "python3"
  },
  "language_info": {
   "codemirror_mode": {
    "name": "ipython",
    "version": 3
   },
   "file_extension": ".py",
   "mimetype": "text/x-python",
   "name": "python",
   "nbconvert_exporter": "python",
   "pygments_lexer": "ipython3",
   "version": "3.8.8"
  }
 },
 "nbformat": 4,
 "nbformat_minor": 4
}
